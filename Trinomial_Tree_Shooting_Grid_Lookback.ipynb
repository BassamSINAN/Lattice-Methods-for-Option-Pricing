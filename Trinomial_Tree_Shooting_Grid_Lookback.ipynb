{
 "cells": [
  {
   "cell_type": "code",
   "execution_count": 26,
   "metadata": {},
   "outputs": [],
   "source": [
    "plt.style.use('dark_background')\n",
    "import itertools\n",
    "import numpy as np\n",
    "import scipy.stats as si\n",
    "import matplotlib.pyplot as plt\n",
    "import math\n",
    "from scipy.stats import norm\n",
    "import pandas as pd\n",
    "import time\n",
    "\n"
   ]
  },
  {
   "cell_type": "markdown",
   "metadata": {},
   "source": [
    "For a trinomial tree, the formula for the stock price is given by\n",
    "\\begin{align*}\n",
    "S^n_k=S_0 u^{n\n",
    "}d^k,\\qquad n=0,1,...,N\\quad k=0,1,...,n\n",
    "\\end{align*}\n",
    "is the $k^{th}$ possible stock price level at time $n$, and $V^n_k$ is the time-$n$ option value when the stock price is $S^n_k$. \n",
    "\n"
   ]
  },
  {
   "cell_type": "markdown",
   "metadata": {},
   "source": [
    "\n",
    "\n",
    "\\begin{align*}{Euro. option: }V^{n}_k&=e^{-r\\triangle t}[quV^{n+1}_{k} + qmV^{n+1}_{k+1}+qdV^{n+1}_{k+2}]\\quad\\text{for each }k=0,1,...,n \\\\\n",
    "\\end{align*}\n",
    "\\begin{align*}{Amer. option: }V^{n}_k&=max(g(S^n_k),e^{-r\\triangle t}[quV^{n+1}_{k} + qmV^{n+1}_{k+1}+qdV^{n+1}_{k+2}])\\quad\\text{for each }k=0,1,...,n \\\\\n",
    "\\end{align*}"
   ]
  },
  {
   "cell_type": "markdown",
   "metadata": {},
   "source": [
    "In case one wants to visualize the tree"
   ]
  },
  {
   "cell_type": "markdown",
   "metadata": {},
   "source": [
    "*Choosing the tree parameters*\n",
    "\n",
    "There are a number of ways we can choose the tree parameters. Here we use the Kamrad_Ritchken model:\n",
    "\t\\begin{align*}\n",
    "\t\\quad u=e^{\\lambda\\sigma\\sqrt{\\triangle t}},\\quad m=1,\\quad d=e^{-\\lambda\\sigma \\sqrt{\\triangle t}}\\\\\n",
    "    \\quad qu=\\frac{1}{2\\lambda^2}+\\frac{(r-\\frac{\\sigma^2}{2})\\sqrt{\\triangle t}}{2\\sigma\\lambda},\\quad qm=1-\\frac{1}{\\lambda^2},\\quad qd=\\frac{1}{2\\lambda^2}-\\frac{(r-\\frac{\\sigma^2}{2})\\sqrt{\\triangle t}}{2\\sigma\\lambda}\n",
    "    \\end{align*}"
   ]
  },
  {
   "cell_type": "code",
   "execution_count": 2,
   "metadata": {},
   "outputs": [],
   "source": [
    "def GetKamrad_RitchkenPara(lambda_param,r, T, N, sigma):\n",
    "    dt = T/N\n",
    "    u = np.exp(sigma*lambda_param * np.sqrt(dt))\n",
    "    m = 1\n",
    "    d= 1/u\n",
    "    R = np.exp(r * dt)\n",
    "    qu = ((1) / (2*lambda_param**2)) + (r-0.5*sigma**2)*np.sqrt(dt)/(2*sigma*lambda_param)\n",
    "    qm = 1 - (1/(lambda_param**2))\n",
    "    qd = ((1) / (2*lambda_param**2)) - (r-0.5*sigma**2)*np.sqrt(dt)/(2*sigma*lambda_param)\n",
    "    return u, d, qu, qm, qd, R\n"
   ]
  },
  {
   "cell_type": "code",
   "execution_count": 3,
   "metadata": {},
   "outputs": [],
   "source": [
    "def Populate_Tree_Tri(S0, T, r, N,sigma):\n",
    "        \n",
    "    # Create empty arrays to store the stock price at each node\n",
    "    S = np.zeros((2*N+1, N+1))\n",
    "    S[0,0]=S0\n",
    "    u, d, qu, qm, qd, R = GetKamrad_RitchkenPara(lambda_param,r, T, N, sigma)\n",
    "    \n",
    "    # Set up S[k,n] = s0 * u^(n) * d^k\n",
    "    for t in range(N+1):\n",
    "        S[0:2*t+1, t] = S0 * u**np.arange(t, -t-1, -1).astype(float)\n",
    "        \n",
    "    return S     # get the function to return the whole tree of stock prices"
   ]
  },
  {
   "cell_type": "code",
   "execution_count": 4,
   "metadata": {
    "scrolled": true
   },
   "outputs": [
    {
     "data": {
      "text/plain": [
       "array([[100.        , 115.19099102, 132.68964411],\n",
       "       [  0.        , 100.        , 115.19099102],\n",
       "       [  0.        ,  86.81234454, 100.        ],\n",
       "       [  0.        ,   0.        ,  86.81234454],\n",
       "       [  0.        ,   0.        ,  75.36383164]])"
      ]
     },
     "execution_count": 4,
     "metadata": {},
     "output_type": "execute_result"
    }
   ],
   "source": [
    "#An example\n",
    "\n",
    "S0, r, T, sigma, K = 100, 0.01, 1, 0.2, 100     # Option and market parameters\n",
    "N = 2                                          # Number of periods\n",
    "lambda_param = 1\n",
    "S=Populate_Tree_Tri(S0, T, r, N,sigma)\n",
    "S"
   ]
  },
  {
   "cell_type": "markdown",
   "metadata": {},
   "source": [
    "## floating strike lookback put"
   ]
  },
  {
   "cell_type": "code",
   "execution_count": 5,
   "metadata": {},
   "outputs": [],
   "source": [
    "#Aux var: Auxiliary_variable_lookback_put_floating_strike\n",
    "def Lookback_FSP_Aux(S0,u,N):\n",
    "    M_Grid = np.zeros((N+1, N+1))\n",
    "    \n",
    "    for t in range(N+1):\n",
    "        M_Grid[0:t+1, t] = S0 * u**np.arange(t, -1, -1)\n",
    "            \n",
    "    #phi = lambda k,j: np.maximum(k-n-1,j) #Shooting function\n",
    "    phi = lambda k,j: np.minimum(k,j+1) #Shooting function\n",
    "    \n",
    "    return M_Grid, phi\n"
   ]
  },
  {
   "cell_type": "code",
   "execution_count": 6,
   "metadata": {},
   "outputs": [],
   "source": [
    "def Trinomial_CRR_Shooting_grid(S0, T, r, N,aux_function,sigma,american=False):\n",
    "        \n",
    "    # Create empty arrays to store the stock price at each node\n",
    "    V = np.zeros((N+1,2*N+1, N+1))\n",
    "    u, d, qu, qm, qd, R = GetKamrad_RitchkenPara(lambda_param,r, T, N, sigma)\n",
    "\n",
    "# Set up S[k,n] = s0 * u^(n)* d^k\n",
    "    S=Populate_Tree_Tri(S0, T, r, N,sigma)\n",
    "    M_Grid, phi = aux_function(S0,u,N)\n",
    "    \n",
    "\n",
    "            \n",
    "# Compute the option price at terminal time\n",
    "    for k in range(0,(2*N)+1):\n",
    "        for j in range(0,N+1):\n",
    "            V[j,k,N] = M_Grid[j,N] - S[k,N]\n",
    "            #print(M_Grid[j,N],S[k,N])\n",
    "    \n",
    "    for n in reversed(range(N)):    \n",
    "        for k in (range(0,2*n+1)):\n",
    "            for j in range(0,n+1):\n",
    "                if american:\n",
    "                    V[j,k,n] = max(M_Grid[j,n] - S[k,n],(qu*V[phi(k,j),k,n+1]+qm*V[phi(k+1,j),k+1,n+1]+qd*V[phi(k+2,j),k+2,n+1])/R)\n",
    "                else:\n",
    "                    V[j,k,n] = (qu*V[phi(k,j),k,n+1]+qm*V[phi(k+1,j),k+1,n+1]+qd*V[phi(k+2,j),k+2,n+1])/R\n",
    "    return V[0,0,0]"
   ]
  },
  {
   "cell_type": "code",
   "execution_count": 7,
   "metadata": {},
   "outputs": [
    {
     "data": {
      "text/plain": [
       "10.291817023033659"
      ]
     },
     "execution_count": 7,
     "metadata": {},
     "output_type": "execute_result"
    }
   ],
   "source": [
    "#European Case\n",
    "N=2\n",
    "Trinomial_CRR_Shooting_grid(S0, T, r, N,Lookback_FSP_Aux, sigma,american=False)"
   ]
  },
  {
   "cell_type": "code",
   "execution_count": 8,
   "metadata": {},
   "outputs": [
    {
     "data": {
      "text/plain": [
       "14.861644163246314"
      ]
     },
     "execution_count": 8,
     "metadata": {},
     "output_type": "execute_result"
    }
   ],
   "source": [
    "#European Case\n",
    "N=50\n",
    "Trinomial_CRR_Shooting_grid(S0, T, r, N,Lookback_FSP_Aux, sigma,american=False)"
   ]
  },
  {
   "cell_type": "code",
   "execution_count": 9,
   "metadata": {},
   "outputs": [
    {
     "data": {
      "text/plain": [
       "15.00844782735167"
      ]
     },
     "execution_count": 9,
     "metadata": {},
     "output_type": "execute_result"
    }
   ],
   "source": [
    "#American Case\n",
    "Trinomial_CRR_Shooting_grid(S0, T, r, N,Lookback_FSP_Aux, sigma,american=True)"
   ]
  },
  {
   "cell_type": "code",
   "execution_count": 10,
   "metadata": {},
   "outputs": [],
   "source": [
    "## Computing prices for different N for both EU and US options"
   ]
  },
  {
   "cell_type": "code",
   "execution_count": 31,
   "metadata": {},
   "outputs": [
    {
     "name": "stderr",
     "output_type": "stream",
     "text": [
      "No handles with labels found to put in legend.\n"
     ]
    },
    {
     "data": {
      "text/plain": [
       "[<matplotlib.lines.Line2D at 0x1d805966240>]"
      ]
     },
     "execution_count": 31,
     "metadata": {},
     "output_type": "execute_result"
    },
    {
     "data": {
      "image/png": "[encoded data removed]",
      "text/plain": [
       "<Figure size 432x288 with 1 Axes>"
      ]
     },
     "metadata": {},
     "output_type": "display_data"
    }
   ],
   "source": [
    "List_EU_LFSP_Prices=[Trinomial_CRR_Shooting_grid(S0, T, r, i,Lookback_FSP_Aux, sigma,american=False) for i in range(1,100)]\n",
    "plt.legend(loc=\"best\")\n",
    "plt.title(\"floating strike lookback put price with varying N\")\n",
    "plt.xlabel(\"N (steps)\")\n",
    "plt.ylabel(\"Option Price\")\n",
    "plt.plot(List_EU_LFSP_Prices)"
   ]
  },
  {
   "cell_type": "code",
   "execution_count": 17,
   "metadata": {},
   "outputs": [],
   "source": [
    "#An example\n",
    "\n",
    "S0, r, T, sigma, K = 100, 0.01, 1, 0.2, 100     # Option and market parameters\n",
    "N = 2                                          # Number of periods\n",
    "lambda_param = 1"
   ]
  },
  {
   "cell_type": "markdown",
   "metadata": {},
   "source": [
    "### European Case"
   ]
  },
  {
   "cell_type": "code",
   "execution_count": 18,
   "metadata": {},
   "outputs": [],
   "source": [
    "N=10\n",
    "t0=time.time()\n",
    "eu_price_lfsp_10=Trinomial_CRR_Shooting_grid(S0, T, r, N,Lookback_FSP_Aux, sigma,american=False)\n",
    "tend=time.time()\n",
    "eu_time_lfsp_10=tend-t0\n",
    "\n",
    "N=20\n",
    "t0=time.time()\n",
    "eu_price_lfsp_20=Trinomial_CRR_Shooting_grid(S0, T, r, N,Lookback_FSP_Aux, sigma,american=False)\n",
    "tend=time.time()\n",
    "eu_time_lfsp_20=tend-t0\n",
    "\n",
    "N=50\n",
    "t0=time.time()\n",
    "eu_price_lfsp_50=Trinomial_CRR_Shooting_grid(S0, T, r, N,Lookback_FSP_Aux, sigma,american=False)\n",
    "tend=time.time()\n",
    "eu_time_lfsp_50=tend-t0\n",
    "\n",
    "N=100\n",
    "t0=time.time()\n",
    "eu_price_lfsp_100=Trinomial_CRR_Shooting_grid(S0, T, r, N,Lookback_FSP_Aux, sigma,american=False)\n",
    "tend=time.time()\n",
    "eu_time_lfsp_100=tend-t0\n",
    "\n",
    "N=200\n",
    "t0=time.time()\n",
    "eu_price_lfsp_200=Trinomial_CRR_Shooting_grid(S0, T, r, N,Lookback_FSP_Aux, sigma,american=False)\n",
    "tend=time.time()\n",
    "eu_time_lfsp_200=tend-t0\n",
    "\n",
    "N=500\n",
    "t0=time.time()\n",
    "eu_price_lfsp_500=Trinomial_CRR_Shooting_grid(S0, T, r, N,Lookback_FSP_Aux, sigma,american=False)\n",
    "tend=time.time()\n",
    "eu_time_lfsp_500=tend-t0\n",
    "\n",
    "\n",
    "eu_list_prices = [eu_price_lfsp_10,eu_price_lfsp_50, eu_price_lfsp_50, \n",
    "                  eu_price_lfsp_100, eu_price_lfsp_200, eu_price_lfsp_500]\n",
    "eu_list_time = [eu_time_lfsp_10,eu_time_lfsp_20,eu_time_lfsp_50,\n",
    "                eu_time_lfsp_100, eu_time_lfsp_200, eu_time_lfsp_500]"
   ]
  },
  {
   "cell_type": "code",
   "execution_count": 19,
   "metadata": {},
   "outputs": [
    {
     "data": {
      "text/plain": [
       "[0.003953456878662109,\n",
       " 0.022971630096435547,\n",
       " 0.317141056060791,\n",
       " 2.5494203567504883,\n",
       " 21.463724374771118,\n",
       " 338.3564360141754]"
      ]
     },
     "execution_count": 19,
     "metadata": {},
     "output_type": "execute_result"
    }
   ],
   "source": [
    "eu_list_prices\n",
    "eu_list_time"
   ]
  },
  {
   "cell_type": "markdown",
   "metadata": {},
   "source": [
    "## American Case"
   ]
  },
  {
   "cell_type": "code",
   "execution_count": 20,
   "metadata": {},
   "outputs": [],
   "source": [
    "N=10\n",
    "t0=time.time()\n",
    "am_price_lfsp_10=Trinomial_CRR_Shooting_grid(S0, T, r, N,Lookback_FSP_Aux, sigma,american=True)\n",
    "tend=time.time()\n",
    "am_time_lfsp_10=tend-t0\n",
    "\n",
    "N=20\n",
    "t0=time.time()\n",
    "am_price_lfsp_20=Trinomial_CRR_Shooting_grid(S0, T, r, N,Lookback_FSP_Aux, sigma,american=True)\n",
    "tend=time.time()\n",
    "am_time_lfsp_20=tend-t0\n",
    "\n",
    "N=50\n",
    "t0=time.time()\n",
    "am_price_lfsp_50=Trinomial_CRR_Shooting_grid(S0, T, r, N,Lookback_FSP_Aux, sigma,american=True)\n",
    "tend=time.time()\n",
    "am_time_lfsp_50=tend-t0\n",
    "\n",
    "N=100\n",
    "t0=time.time()\n",
    "am_price_lfsp_100=Trinomial_CRR_Shooting_grid(S0, T, r, N,Lookback_FSP_Aux, sigma,american=True)\n",
    "tend=time.time()\n",
    "am_time_lfsp_100=tend-t0\n",
    "\n",
    "N=200\n",
    "t0=time.time()\n",
    "am_price_lfsp_200=Trinomial_CRR_Shooting_grid(S0, T, r, N,Lookback_FSP_Aux, sigma,american=True)\n",
    "tend=time.time()\n",
    "am_time_lfsp_200=tend-t0\n",
    "\n",
    "N=500\n",
    "t0=time.time()\n",
    "am_price_lfsp_500=Trinomial_CRR_Shooting_grid(S0, T, r, N,Lookback_FSP_Aux, sigma,american=True)\n",
    "tend=time.time()\n",
    "am_time_lfsp_500=tend-t0\n",
    "am_time_lfsp_500\n",
    "\n",
    "am_list_prices = [am_price_lfsp_10,am_price_lfsp_50, \n",
    "                  am_price_lfsp_50, am_price_lfsp_100, am_price_lfsp_200, am_price_lfsp_500]\n",
    "am_list_time = [am_time_lfsp_10,am_time_lfsp_20,am_time_lfsp_50,\n",
    "                am_time_lfsp_100, am_time_lfsp_200, am_time_lfsp_500]"
   ]
  },
  {
   "cell_type": "code",
   "execution_count": 21,
   "metadata": {},
   "outputs": [
    {
     "data": {
      "text/plain": [
       "[13.393334495658443,\n",
       " 15.00844782735167,\n",
       " 15.00844782735167,\n",
       " 15.434824126370037,\n",
       " 15.747517108717334,\n",
       " 16.03297682299477]"
      ]
     },
     "execution_count": 21,
     "metadata": {},
     "output_type": "execute_result"
    }
   ],
   "source": [
    "am_list_prices"
   ]
  },
  {
   "cell_type": "markdown",
   "metadata": {},
   "source": [
    "### EU-Am Prices vs Time"
   ]
  },
  {
   "cell_type": "code",
   "execution_count": 38,
   "metadata": {},
   "outputs": [
    {
     "data": {
      "text/html": [
       "<div>\n",
       "<style scoped>\n",
       "    .dataframe tbody tr th:only-of-type {\n",
       "        vertical-align: middle;\n",
       "    }\n",
       "\n",
       "    .dataframe tbody tr th {\n",
       "        vertical-align: top;\n",
       "    }\n",
       "\n",
       "    .dataframe thead th {\n",
       "        text-align: right;\n",
       "    }\n",
       "</style>\n",
       "<table border=\"1\" class=\"dataframe\">\n",
       "  <thead>\n",
       "    <tr style=\"text-align: right;\">\n",
       "      <th></th>\n",
       "      <th>N</th>\n",
       "      <th>EU Prices</th>\n",
       "      <th>Computational time (seconds)</th>\n",
       "    </tr>\n",
       "  </thead>\n",
       "  <tbody>\n",
       "    <tr>\n",
       "      <th>0</th>\n",
       "      <td>10</td>\n",
       "      <td>13.204753</td>\n",
       "      <td>0.003953</td>\n",
       "    </tr>\n",
       "    <tr>\n",
       "      <th>1</th>\n",
       "      <td>20</td>\n",
       "      <td>14.861644</td>\n",
       "      <td>0.022972</td>\n",
       "    </tr>\n",
       "    <tr>\n",
       "      <th>2</th>\n",
       "      <td>50</td>\n",
       "      <td>14.861644</td>\n",
       "      <td>0.317141</td>\n",
       "    </tr>\n",
       "    <tr>\n",
       "      <th>3</th>\n",
       "      <td>100</td>\n",
       "      <td>15.294589</td>\n",
       "      <td>2.549420</td>\n",
       "    </tr>\n",
       "    <tr>\n",
       "      <th>4</th>\n",
       "      <td>200</td>\n",
       "      <td>15.610695</td>\n",
       "      <td>21.463724</td>\n",
       "    </tr>\n",
       "    <tr>\n",
       "      <th>5</th>\n",
       "      <td>500</td>\n",
       "      <td>15.898234</td>\n",
       "      <td>338.356436</td>\n",
       "    </tr>\n",
       "  </tbody>\n",
       "</table>\n",
       "</div>"
      ],
      "text/plain": [
       "     N  EU Prices  Computational time (seconds)\n",
       "0   10  13.204753                      0.003953\n",
       "1   20  14.861644                      0.022972\n",
       "2   50  14.861644                      0.317141\n",
       "3  100  15.294589                      2.549420\n",
       "4  200  15.610695                     21.463724\n",
       "5  500  15.898234                    338.356436"
      ]
     },
     "execution_count": 38,
     "metadata": {},
     "output_type": "execute_result"
    }
   ],
   "source": [
    "list_N=[10,20,50,100,200,500]\n",
    "\n",
    "Table_EU=pd.DataFrame({\"N\":list_N,\"EU Prices\":eu_list_prices,\n",
    "                       \"Computational time (seconds)\":eu_list_time})\n",
    "Table_EU"
   ]
  },
  {
   "cell_type": "code",
   "execution_count": 40,
   "metadata": {},
   "outputs": [
    {
     "data": {
      "text/html": [
       "<div>\n",
       "<style scoped>\n",
       "    .dataframe tbody tr th:only-of-type {\n",
       "        vertical-align: middle;\n",
       "    }\n",
       "\n",
       "    .dataframe tbody tr th {\n",
       "        vertical-align: top;\n",
       "    }\n",
       "\n",
       "    .dataframe thead th {\n",
       "        text-align: right;\n",
       "    }\n",
       "</style>\n",
       "<table border=\"1\" class=\"dataframe\">\n",
       "  <thead>\n",
       "    <tr style=\"text-align: right;\">\n",
       "      <th></th>\n",
       "      <th>N</th>\n",
       "      <th>AM Prices</th>\n",
       "      <th>Computational time (seconds)</th>\n",
       "    </tr>\n",
       "  </thead>\n",
       "  <tbody>\n",
       "    <tr>\n",
       "      <th>0</th>\n",
       "      <td>10</td>\n",
       "      <td>13.393334</td>\n",
       "      <td>0.004087</td>\n",
       "    </tr>\n",
       "    <tr>\n",
       "      <th>1</th>\n",
       "      <td>20</td>\n",
       "      <td>15.008448</td>\n",
       "      <td>0.025280</td>\n",
       "    </tr>\n",
       "    <tr>\n",
       "      <th>2</th>\n",
       "      <td>50</td>\n",
       "      <td>15.008448</td>\n",
       "      <td>0.368047</td>\n",
       "    </tr>\n",
       "    <tr>\n",
       "      <th>3</th>\n",
       "      <td>100</td>\n",
       "      <td>15.434824</td>\n",
       "      <td>3.146343</td>\n",
       "    </tr>\n",
       "    <tr>\n",
       "      <th>4</th>\n",
       "      <td>200</td>\n",
       "      <td>15.747517</td>\n",
       "      <td>24.155889</td>\n",
       "    </tr>\n",
       "    <tr>\n",
       "      <th>5</th>\n",
       "      <td>500</td>\n",
       "      <td>16.032977</td>\n",
       "      <td>402.013110</td>\n",
       "    </tr>\n",
       "  </tbody>\n",
       "</table>\n",
       "</div>"
      ],
      "text/plain": [
       "     N  AM Prices  Computational time (seconds)\n",
       "0   10  13.393334                      0.004087\n",
       "1   20  15.008448                      0.025280\n",
       "2   50  15.008448                      0.368047\n",
       "3  100  15.434824                      3.146343\n",
       "4  200  15.747517                     24.155889\n",
       "5  500  16.032977                    402.013110"
      ]
     },
     "execution_count": 40,
     "metadata": {},
     "output_type": "execute_result"
    }
   ],
   "source": [
    "Table_AM=pd.DataFrame({\"N\":list_N,\"AM Prices\":am_list_prices,\n",
    "                       \"Computational time (seconds)\":am_list_time})\n",
    "Table_AM"
   ]
  }
 ],
 "metadata": {
  "kernelspec": {
   "display_name": "Python 3",
   "language": "python",
   "name": "python3"
  },
  "language_info": {
   "codemirror_mode": {
    "name": "ipython",
    "version": 3
   },
   "file_extension": ".py",
   "mimetype": "text/x-python",
   "name": "python",
   "nbconvert_exporter": "python",
   "pygments_lexer": "ipython3",
   "version": "3.7.3"
  }
 },
 "nbformat": 4,
 "nbformat_minor": 2
}
